{
 "cells": [
  {
   "cell_type": "code",
   "execution_count": 4,
   "id": "3a4b4de0",
   "metadata": {},
   "outputs": [],
   "source": [
    "import requests\n",
    "import urllib.request\n",
    "import pandas as pd\n",
    "import warnings\n",
    "import time\n",
    "import json\n",
    "import base64\n",
    "import csv\n",
    "import numpy as np\n",
    "import os\n",
    "import glob\n",
    "warnings.filterwarnings(\"ignore\")"
   ]
  },
  {
   "cell_type": "code",
   "execution_count": 5,
   "id": "6733fdaa",
   "metadata": {},
   "outputs": [],
   "source": [
    "# read all sequence_key from file sequnce_key \n",
    "def read_sequnce_key_from_file():\n",
    "    sequence_key_list = []\n",
    "    for file_name in glob.glob(\"seqns/*.txt\"):\n",
    "        with open(file_name) as f:\n",
    "            lines = f.readlines()\n",
    "            lines = [line.strip() for line in lines if line.strip()]\n",
    "            sequence_key_list.extend(lines)\n",
    "    return list(set(sequence_key_list))"
   ]
  },
  {
   "cell_type": "code",
   "execution_count": 6,
   "id": "95ca4600",
   "metadata": {},
   "outputs": [],
   "source": [
    "def get_images_ids_from_sequence(app_access_token: str, sequence_id: str) -> dict:\n",
    "    '''\n",
    "    Get all image_ids from a specific driving trip using sequence_id\n",
    "    INPUTS: \n",
    "        app_access_token: this is a string. We can create your access token at https://mapillary.com/developer and get it using the link \"https://www.mapillary.com/dashboard/developers\"\n",
    "        sequence_id: this is string. We can get it from a website after a specific trip. We want to get all the images. Note: all images in one trip get the same sequence_id.\n",
    "    OUTPUTS:\n",
    "        sequence of images_ids ordered by capture time\n",
    "    '''\n",
    "    # Adapted from: https://help.mapillary.com/hc/en-us/articles/360010234680-Accessing-imagery-and-data-through-the-Mapillary-API\n",
    "    url = 'https://graph.mapillary.com/image_ids?sequence_id={}&access_token={}'.format(sequence_id, app_access_token)\n",
    "    headers = { \"Authorization\" : \"OAuth {}\".format(app_access_token) }\n",
    "    response = requests.get(url, headers)\n",
    "    data = response.json()\n",
    "    return data"
   ]
  },
  {
   "cell_type": "code",
   "execution_count": 7,
   "id": "f01cbe3e",
   "metadata": {},
   "outputs": [],
   "source": [
    "def get_image(app_access_token: str, image_id: str, num_img: int, image_size = 'thumb_2048_url')-> dict:\n",
    "    '''\n",
    "    get all data related to image\n",
    "    INPUTS:\n",
    "     app_access_token: app_access_token: this is a string. We can create your access token at https://mapillary.com/developer and get it using the link \"https://www.mapillary.com/dashboard/developers\"\n",
    "     image_id: string we can get it from website or from function get_images_ids_from_sequence\n",
    "     detection_classes: list of string containing detection classes needed to detect and set it empty list when need to download all images not depending on specific detection by defult empty list\n",
    "     image_size: string specify number of pixels of image there are 4 options [\"thumb_256_url\", \"thumb_1024_url\", \"thumb_2048_url\", \"thumb_original_url\"]\n",
    "\n",
    "    OUTPUTS:\n",
    "     image_id: image id \n",
    "     captured_at: string timestamp epoch\n",
    "     height: 2048 image height \n",
    "     width: 1536 image width\n",
    "     detections: list with objects detections ids\n",
    "     \n",
    "     return:\n",
    "      image downloaded or not\n",
    "    '''\n",
    "    # Adapted from: https://help.mapillary.com/hc/en-us/articles/360010234680-Accessing-imagery-and-data-through-the-Mapillary-API\n",
    "    url = 'https://graph.mapillary.com/{}?fields=id,captured_at,height,width,detections.value,{}&access_token={}'.format(image_id, image_size, app_access_token)\n",
    "    headers = { \"Authorization\" : \"OAuth {}\".format(app_access_token) }\n",
    "    response = requests.get(url, headers)\n",
    "    data = response.json()\n",
    "    location = './imgs'\n",
    "    image_name = str('{0:05}'.format(num_img))+'_'+data['id']+'.jpg'\n",
    "    image_path = os.path.join(location, image_name)\n",
    "    images_names.append(image_path)\n",
    "    urllib.request.urlretrieve(data[image_size], image_path)\n",
    "    print(image_name)"
   ]
  },
  {
   "cell_type": "code",
   "execution_count": null,
   "id": "1c10d635",
   "metadata": {},
   "outputs": [],
   "source": [
    "sequence_key_list = read_sequnce_key_from_file()\n",
    "rest_seq=read_sequnce_key_from_file()"
   ]
  },
  {
   "cell_type": "code",
   "execution_count": null,
   "id": "479a0279",
   "metadata": {},
   "outputs": [],
   "source": [
    "app_access_token = 'MLY|5301732853205994|611e88a33f1ef1f26c9347b9b43bbc68'\n",
    "images_names = []\n",
    "# Get every sequence id in the sequences list.\n",
    "for sequence_id in sequence_key_list:\n",
    "    print(sequence_id,'Started')\n",
    "    # Send a request and download every image with the same sequece id\n",
    "    for img_id in (get_images_ids_from_sequence(app_access_token, sequence_id)['data']):\n",
    "        get_image(app_access_token, img_id['id'], len(images_names))\n",
    "    rest_seq.remove(sequence_id)\n",
    "    print(sequence_id,'Done')"
   ]
  }
 ],
 "metadata": {
  "kernelspec": {
   "display_name": "Python 3 (ipykernel)",
   "language": "python",
   "name": "python3"
  },
  "language_info": {
   "codemirror_mode": {
    "name": "ipython",
    "version": 3
   },
   "file_extension": ".py",
   "mimetype": "text/x-python",
   "name": "python",
   "nbconvert_exporter": "python",
   "pygments_lexer": "ipython3",
   "version": "3.9.16"
  }
 },
 "nbformat": 4,
 "nbformat_minor": 5
}
